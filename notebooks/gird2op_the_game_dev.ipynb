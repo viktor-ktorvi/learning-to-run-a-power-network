{
 "cells": [
  {
   "cell_type": "code",
   "execution_count": 1,
   "metadata": {
    "ExecuteTime": {
     "end_time": "2025-03-13T10:16:05.570344400Z",
     "start_time": "2025-03-13T10:16:02.603071200Z"
    }
   },
   "outputs": [],
   "source": [
    "import grid2op\n",
    "\n",
    "from src.game.game import Game\n",
    "from src.game.menu_.menu import Menu"
   ]
  },
  {
   "cell_type": "code",
   "execution_count": 2,
   "metadata": {
    "ExecuteTime": {
     "start_time": "2025-03-13T10:16:05.570344400Z"
    },
    "collapsed": false,
    "jupyter": {
     "outputs_hidden": false
    }
   },
   "outputs": [],
   "source": [
    "environment = grid2op.make(\"l2rpn_case14_sandbox\")\n",
    "\n",
    "game = Game(environment)\n",
    "menu = Menu(game)"
   ]
  },
  {
   "cell_type": "code",
   "execution_count": 3,
   "metadata": {
    "collapsed": false,
    "jupyter": {
     "outputs_hidden": false
    }
   },
   "outputs": [
    {
     "data": {
      "application/vnd.jupyter.widget-view+json": {
       "model_id": "c186746950774810acc1c9f40970a79e",
       "version_major": 2,
       "version_minor": 0
      },
      "text/plain": [
       "Output()"
      ]
     },
     "metadata": {},
     "output_type": "display_data"
    },
    {
     "data": {
      "application/vnd.jupyter.widget-view+json": {
       "model_id": "45552e9904cb4cddaa03aee379a84660",
       "version_major": 2,
       "version_minor": 0
      },
      "text/plain": [
       "Menu(children=(ToggleButtons(description='Substation ID', layout=Layout(width='1000px'), options=(0, 1, 2, 3, …"
      ]
     },
     "metadata": {},
     "output_type": "display_data"
    },
    {
     "data": {
      "application/vnd.jupyter.widget-view+json": {
       "model_id": "cce4fe765b834ba689f0b5642133f0ed",
       "version_major": 2,
       "version_minor": 0
      },
      "text/plain": [
       "Output()"
      ]
     },
     "metadata": {},
     "output_type": "display_data"
    }
   ],
   "source": [
    "display(menu.action_output)\n",
    "display(menu)\n",
    "display(menu.plot_output)"
   ]
  }
 ],
 "metadata": {
  "kernelspec": {
   "display_name": "Python 3 (ipykernel)",
   "language": "python",
   "name": "python3"
  },
  "language_info": {
   "codemirror_mode": {
    "name": "ipython",
    "version": 3
   },
   "file_extension": ".py",
   "mimetype": "text/x-python",
   "name": "python",
   "nbconvert_exporter": "python",
   "pygments_lexer": "ipython3",
   "version": "3.11.11"
  }
 },
 "nbformat": 4,
 "nbformat_minor": 4
}
