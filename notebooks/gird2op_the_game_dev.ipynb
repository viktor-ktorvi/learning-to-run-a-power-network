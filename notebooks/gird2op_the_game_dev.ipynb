{
 "cells": [
  {
   "cell_type": "code",
   "execution_count": 1,
   "metadata": {
    "ExecuteTime": {
     "end_time": "2025-03-14T08:05:40.705214900Z",
     "start_time": "2025-03-14T08:05:38.967146500Z"
    }
   },
   "outputs": [],
   "source": [
    "import grid2op\n",
    "\n",
    "from src.game.game import Game\n",
    "from src.game.menu_.menu import Menu"
   ]
  },
  {
   "cell_type": "code",
   "execution_count": 2,
   "metadata": {
    "collapsed": false,
    "jupyter": {
     "outputs_hidden": false
    }
   },
   "outputs": [],
   "source": [
    "environment = grid2op.make(\"l2rpn_case14_sandbox\")\n",
    "\n",
    "game = Game(environment)\n",
    "menu = Menu(game)"
   ]
  },
  {
   "cell_type": "code",
   "execution_count": 3,
   "metadata": {
    "collapsed": false,
    "jupyter": {
     "outputs_hidden": false
    }
   },
   "outputs": [
    {
     "data": {
      "application/vnd.jupyter.widget-view+json": {
       "model_id": "7e29e5b8fa9f40d783f7662bb51687e0",
       "version_major": 2,
       "version_minor": 0
      },
      "text/plain": [
       "Output()"
      ]
     },
     "metadata": {},
     "output_type": "display_data"
    },
    {
     "data": {
      "application/vnd.jupyter.widget-view+json": {
       "model_id": "029784d1c4704ba491ef487898d61fa3",
       "version_major": 2,
       "version_minor": 0
      },
      "text/plain": [
       "Menu(children=(Button(description='Apply action', style=ButtonStyle()), Button(description='Reset', style=Butt…"
      ]
     },
     "metadata": {},
     "output_type": "display_data"
    },
    {
     "data": {
      "application/vnd.jupyter.widget-view+json": {
       "model_id": "49c52e526c404ab3ae6bb29db75c40e5",
       "version_major": 2,
       "version_minor": 0
      },
      "text/plain": [
       "Output()"
      ]
     },
     "metadata": {},
     "output_type": "display_data"
    }
   ],
   "source": [
    "display(menu.action_output)\n",
    "display(menu)\n",
    "display(menu.plot_output)\n",
    "\n",
    "# TODO add storage"
   ]
  }
 ],
 "metadata": {
  "kernelspec": {
   "display_name": "Python 3 (ipykernel)",
   "language": "python",
   "name": "python3"
  },
  "language_info": {
   "codemirror_mode": {
    "name": "ipython",
    "version": 3
   },
   "file_extension": ".py",
   "mimetype": "text/x-python",
   "name": "python",
   "nbconvert_exporter": "python",
   "pygments_lexer": "ipython3",
   "version": "3.11.11"
  }
 },
 "nbformat": 4,
 "nbformat_minor": 4
}
