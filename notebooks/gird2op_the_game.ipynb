{
 "cells": [
  {
   "cell_type": "code",
   "execution_count": 1,
   "metadata": {
    "ExecuteTime": {
     "end_time": "2025-03-14T08:05:40.705214900Z",
     "start_time": "2025-03-14T08:05:38.967146500Z"
    }
   },
   "outputs": [],
   "source": [
    "import grid2op\n",
    "\n",
    "from src.game.game import Game\n",
    "from src.game.menu_.menu import Menu"
   ]
  },
  {
   "cell_type": "code",
   "execution_count": 2,
   "metadata": {
    "collapsed": false,
    "jupyter": {
     "outputs_hidden": false
    }
   },
   "outputs": [],
   "source": [
    "environment = grid2op.make(\"l2rpn_case14_sandbox\")\n",
    "\n",
    "game = Game(environment)\n",
    "menu = Menu(game)"
   ]
  },
  {
   "cell_type": "code",
   "execution_count": 3,
   "metadata": {
    "collapsed": false,
    "jupyter": {
     "outputs_hidden": false
    }
   },
   "outputs": [
    {
     "data": {
      "application/vnd.jupyter.widget-view+json": {
       "model_id": "fc4804d975164e7cbe13092014df7838",
       "version_major": 2,
       "version_minor": 0
      },
      "text/plain": [
       "Output()"
      ]
     },
     "metadata": {},
     "output_type": "display_data"
    },
    {
     "data": {
      "application/vnd.jupyter.widget-view+json": {
       "model_id": "7648d367b1d3499aa8edd186938033f9",
       "version_major": 2,
       "version_minor": 0
      },
      "text/plain": [
       "Menu(children=(Button(description='Apply action', style=ButtonStyle()), Button(description='Reset', style=Butt…"
      ]
     },
     "metadata": {},
     "output_type": "display_data"
    },
    {
     "data": {
      "application/vnd.jupyter.widget-view+json": {
       "model_id": "9c84a0a0247d4737b7afe5977991eb14",
       "version_major": 2,
       "version_minor": 0
      },
      "text/plain": [
       "Output()"
      ]
     },
     "metadata": {},
     "output_type": "display_data"
    }
   ],
   "source": [
    "display(menu.action_output)\n",
    "display(menu)\n",
    "display(menu.plot_output)\n",
    "\n",
    "# TODO add storage"
   ]
  }
 ],
 "metadata": {
  "kernelspec": {
   "display_name": "Python 3 (ipykernel)",
   "language": "python",
   "name": "python3"
  },
  "language_info": {
   "codemirror_mode": {
    "name": "ipython",
    "version": 3
   },
   "file_extension": ".py",
   "mimetype": "text/x-python",
   "name": "python",
   "nbconvert_exporter": "python",
   "pygments_lexer": "ipython3",
   "version": "3.11.11"
  }
 },
 "nbformat": 4,
 "nbformat_minor": 4
}
