{
 "cells": [
  {
   "cell_type": "markdown",
   "source": [
    "# grid2op -- the game\n",
    "\n",
    "'`grid2o`p` -- the game' is an applet conceptualized to give an insight into the power grid control problem by letting the player solved problematic grid states manually.\n",
    "\n",
    "Run the `grid2op` environment with a `DoNothing` agent until any of the lines exceed a specified thermal threshold (e.g., 99%). At that point the player is given an opportunity act and fix the problematic state by switching busbars of lines, generators, and loads connected to substations. The action is only recorded when the busbar of a selected element is changed. The **Apply action** button applies the action to a copy of the current environment, steps once into the future and displays the results. If the player is satisfied with the outcome, they should press the **Continue simulation** button which will apply the action to the actual environment and continue simulating using the `DoNothing` agent until a new problematic state is reached. If the player is not satisfied, they could keep changing busbars and applying the actions (as long as the actions are legal as defined by `grid2op`), or they could press the **Reset** button which will revert the currently applied actions and show the problematic state again. The **Reset** button does not restart the entire game. To do that, re-run all the notebook cells.\n",
    "\n",
    "Apart from the grid state being plotted, useful information is being printed, i.e., the current actions and the IDs of the elements acted upon, and the information dictionary which gets returned by the environment when stepping and which contains different information, e.g., if an action was illegal and why.\n",
    "\n",
    "The game works for other grids besides the `case14`, but with possible issues referenced in the TODOs below. If you notice other bugs, do raise an issue, please!"
   ],
   "metadata": {
    "collapsed": false
   }
  },
  {
   "cell_type": "code",
   "execution_count": 5,
   "metadata": {
    "ExecuteTime": {
     "end_time": "2025-03-14T10:23:31.685780200Z",
     "start_time": "2025-03-14T10:23:31.685780200Z"
    }
   },
   "outputs": [],
   "source": [
    "import grid2op\n",
    "\n",
    "from src.game.game import Game\n",
    "from src.game.menu_.menu import Menu"
   ]
  },
  {
   "cell_type": "code",
   "execution_count": 2,
   "metadata": {
    "ExecuteTime": {
     "end_time": "2025-03-14T09:26:38.278804500Z",
     "start_time": "2025-03-14T09:26:37.020772800Z"
    },
    "collapsed": false,
    "jupyter": {
     "outputs_hidden": false
    }
   },
   "outputs": [],
   "source": [
    "environment = grid2op.make(\"l2rpn_case14_sandbox\")\n",
    "\n",
    "game = Game(environment)\n",
    "menu = Menu(game)"
   ]
  },
  {
   "cell_type": "code",
   "execution_count": 3,
   "metadata": {
    "collapsed": false,
    "jupyter": {
     "outputs_hidden": false
    }
   },
   "outputs": [
    {
     "data": {
      "application/vnd.jupyter.widget-view+json": {
       "model_id": "61d7e58542ff46d1babd0bc2dfc0654d",
       "version_major": 2,
       "version_minor": 0
      },
      "text/plain": [
       "Output()"
      ]
     },
     "metadata": {},
     "output_type": "display_data"
    },
    {
     "data": {
      "application/vnd.jupyter.widget-view+json": {
       "model_id": "e8b5e2b75e2445e2a5b59dbb0aaf3103",
       "version_major": 2,
       "version_minor": 0
      },
      "text/plain": [
       "Menu(children=(Button(description='Apply action', style=ButtonStyle()), Button(description='Reset', style=Butt…"
      ]
     },
     "metadata": {},
     "output_type": "display_data"
    },
    {
     "data": {
      "application/vnd.jupyter.widget-view+json": {
       "model_id": "011f96ffc72742d2bf30d54f41a788d5",
       "version_major": 2,
       "version_minor": 0
      },
      "text/plain": [
       "Output()"
      ]
     },
     "metadata": {},
     "output_type": "display_data"
    }
   ],
   "source": [
    "display(menu.action_output)\n",
    "display(menu)\n",
    "display(menu.plot_output)\n",
    "\n",
    "# TODO add storage\n",
    "# TODO issue: when a substation connects to another substation with two parallel lines -- need to select which of the lines to act upon. See, e.g., substations 9 and 16 in 'l2rpn_wcci_2020'"
   ]
  }
 ],
 "metadata": {
  "kernelspec": {
   "display_name": "Python 3 (ipykernel)",
   "language": "python",
   "name": "python3"
  },
  "language_info": {
   "codemirror_mode": {
    "name": "ipython",
    "version": 3
   },
   "file_extension": ".py",
   "mimetype": "text/x-python",
   "name": "python",
   "nbconvert_exporter": "python",
   "pygments_lexer": "ipython3",
   "version": "3.11.11"
  }
 },
 "nbformat": 4,
 "nbformat_minor": 4
}
