{
 "cells": [
  {
   "cell_type": "code",
   "execution_count": 1,
   "metadata": {
    "ExecuteTime": {
     "end_time": "2025-03-11T11:28:12.410687900Z",
     "start_time": "2025-03-11T11:28:10.034969600Z"
    }
   },
   "outputs": [],
   "source": [
    "import grid2op\n",
    "from grid2op.PlotGrid import PlotMatplot\n",
    "\n",
    "from src.game.game import Game\n",
    "from src.game.menu.menu import Menu"
   ]
  },
  {
   "cell_type": "code",
   "execution_count": 2,
   "metadata": {
    "ExecuteTime": {
     "start_time": "2025-03-11T11:28:12.410687900Z"
    },
    "collapsed": false,
    "jupyter": {
     "outputs_hidden": false
    }
   },
   "outputs": [
    {
     "data": {
      "application/vnd.jupyter.widget-view+json": {
       "model_id": "00e53f4362e0407dad67460597ff43f8",
       "version_major": 2,
       "version_minor": 0
      },
      "text/plain": [
       "Output()"
      ]
     },
     "metadata": {},
     "output_type": "display_data"
    },
    {
     "data": {
      "application/vnd.jupyter.widget-view+json": {
       "model_id": "a98786a1ca4e4bb2a4a987cf6dd965c9",
       "version_major": 2,
       "version_minor": 0
      },
      "text/plain": [
       "Menu(children=(Button(description='Clear actions', style=ButtonStyle()), Button(description='Try action', styl…"
      ]
     },
     "metadata": {},
     "output_type": "display_data"
    },
    {
     "data": {
      "application/vnd.jupyter.widget-view+json": {
       "model_id": "fa65eaca3e224072938bb7da4f4dcef3",
       "version_major": 2,
       "version_minor": 0
      },
      "text/plain": [
       "Output()"
      ]
     },
     "metadata": {},
     "output_type": "display_data"
    }
   ],
   "source": [
    "\n",
    "environment = grid2op.make(\"l2rpn_case14_sandbox\")\n",
    "plot_helper = PlotMatplot(environment.observation_space)\n",
    "\n",
    "game = Game(environment)\n",
    "menu = Menu(game)\n",
    "\n",
    "display(menu.outputs.action)\n",
    "display(menu)\n",
    "display(menu.outputs.plot)\n",
    "# TODO something's wrong with updating the generator ID -- specifically gen 0 sub 1, others work"
   ]
  }
 ],
 "metadata": {
  "kernelspec": {
   "display_name": "Python 3 (ipykernel)",
   "language": "python",
   "name": "python3"
  },
  "language_info": {
   "codemirror_mode": {
    "name": "ipython",
    "version": 3
   },
   "file_extension": ".py",
   "mimetype": "text/x-python",
   "name": "python",
   "nbconvert_exporter": "python",
   "pygments_lexer": "ipython3",
   "version": "3.11.11"
  }
 },
 "nbformat": 4,
 "nbformat_minor": 4
}
