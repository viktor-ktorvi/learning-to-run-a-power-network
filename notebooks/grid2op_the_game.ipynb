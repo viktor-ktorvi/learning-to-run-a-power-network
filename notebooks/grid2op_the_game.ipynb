{
 "cells": [
  {
   "cell_type": "code",
   "execution_count": 1,
   "metadata": {
    "ExecuteTime": {
     "end_time": "2025-03-10T14:16:28.704837700Z",
     "start_time": "2025-03-10T14:16:26.139739600Z"
    }
   },
   "outputs": [],
   "source": [
    "import grid2op\n",
    "from grid2op.PlotGrid import PlotMatplot\n",
    "\n",
    "from src.game.game import Game\n",
    "from src.game.menu.menu import Menu\n"
   ]
  },
  {
   "cell_type": "code",
   "execution_count": null,
   "metadata": {
    "ExecuteTime": {
     "end_time": "2025-03-10T14:16:45.525238600Z",
     "start_time": "2025-03-10T14:16:28.704837700Z"
    },
    "collapsed": false,
    "jupyter": {
     "outputs_hidden": false
    }
   },
   "outputs": [],
   "source": [
    "\n",
    "environment = grid2op.make(\"l2rpn_case14_sandbox\")\n",
    "plot_helper = PlotMatplot(environment.observation_space)\n",
    "\n",
    "game = Game(environment)\n",
    "menu = Menu(game)\n",
    "\n",
    "display(menu.outputs.action)\n",
    "display(menu)\n",
    "display(menu.outputs.plot)"
   ]
  }
 ],
 "metadata": {
  "kernelspec": {
   "display_name": "Python 3 (ipykernel)",
   "language": "python",
   "name": "python3"
  },
  "language_info": {
   "codemirror_mode": {
    "name": "ipython",
    "version": 3
   },
   "file_extension": ".py",
   "mimetype": "text/x-python",
   "name": "python",
   "nbconvert_exporter": "python",
   "pygments_lexer": "ipython3",
   "version": "3.11.11"
  }
 },
 "nbformat": 4,
 "nbformat_minor": 4
}
