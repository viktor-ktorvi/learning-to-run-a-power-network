{
 "cells": [
  {
   "cell_type": "code",
   "execution_count": 1,
   "metadata": {
    "ExecuteTime": {
     "end_time": "2025-03-09T14:58:06.607218500Z",
     "start_time": "2025-03-09T14:58:05.329506200Z"
    }
   },
   "outputs": [],
   "source": [
    "import grid2op\n",
    "from grid2op.PlotGrid import PlotMatplot\n",
    "\n",
    "from src.game.game import Game\n",
    "from src.game.menu.menu import Menu\n"
   ]
  },
  {
   "cell_type": "code",
   "execution_count": 2,
   "metadata": {
    "ExecuteTime": {
     "end_time": "2025-03-09T14:58:08.405755500Z",
     "start_time": "2025-03-09T14:58:06.610624800Z"
    },
    "collapsed": false,
    "jupyter": {
     "outputs_hidden": false
    }
   },
   "outputs": [
    {
     "data": {
      "application/vnd.jupyter.widget-view+json": {
       "model_id": "f87614d7c5714307ab497ea1a83a8b5f",
       "version_major": 2,
       "version_minor": 0
      },
      "text/plain": [
       "Output()"
      ]
     },
     "metadata": {},
     "output_type": "display_data"
    },
    {
     "data": {
      "application/vnd.jupyter.widget-view+json": {
       "model_id": "dfb9067bb5e1401d808bd8bfcaa4e3d0",
       "version_major": 2,
       "version_minor": 0
      },
      "text/plain": [
       "Menu(children=(Button(description='Clear actions', style=ButtonStyle()), Button(description='Try action', styl…"
      ]
     },
     "metadata": {},
     "output_type": "display_data"
    },
    {
     "data": {
      "application/vnd.jupyter.widget-view+json": {
       "model_id": "9afc239380e045cfbd10a544afbd3306",
       "version_major": 2,
       "version_minor": 0
      },
      "text/plain": [
       "Output()"
      ]
     },
     "metadata": {},
     "output_type": "display_data"
    }
   ],
   "source": [
    "\n",
    "environment = grid2op.make(\"l2rpn_case14_sandbox\")\n",
    "plot_helper = PlotMatplot(environment.observation_space)\n",
    "\n",
    "game = Game(environment)\n",
    "menu = Menu(game)\n",
    "\n",
    "display(menu.outputs.action)\n",
    "display(menu)\n",
    "display(menu.outputs.plot)"
   ]
  }
 ],
 "metadata": {
  "kernelspec": {
   "display_name": "Python 3 (ipykernel)",
   "language": "python",
   "name": "python3"
  },
  "language_info": {
   "codemirror_mode": {
    "name": "ipython",
    "version": 3
   },
   "file_extension": ".py",
   "mimetype": "text/x-python",
   "name": "python",
   "nbconvert_exporter": "python",
   "pygments_lexer": "ipython3",
   "version": "3.11.11"
  }
 },
 "nbformat": 4,
 "nbformat_minor": 4
}
